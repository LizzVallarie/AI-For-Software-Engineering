{
  "nbformat": 4,
  "nbformat_minor": 0,
  "metadata": {
    "colab": {
      "provenance": [],
      "authorship_tag": "ABX9TyMSoZIEDMtej2uqjGwAvyVo",
      "include_colab_link": true
    },
    "kernelspec": {
      "name": "python3",
      "display_name": "Python 3"
    },
    "language_info": {
      "name": "python"
    }
  },
  "cells": [
    {
      "cell_type": "markdown",
      "metadata": {
        "id": "view-in-github",
        "colab_type": "text"
      },
      "source": [
        "<a href=\"https://colab.research.google.com/github/LizzVallarie/AI-For-Software-Engineering/blob/main/AI_Development.ipynb\" target=\"_parent\"><img src=\"https://colab.research.google.com/assets/colab-badge.svg\" alt=\"Open In Colab\"/></a>"
      ]
    },
    {
      "cell_type": "markdown",
      "source": [],
      "metadata": {
        "id": "d_yOTUY8LqnY"
      }
    },
    {
      "cell_type": "markdown",
      "source": [
        "##  Problem Definition"
      ],
      "metadata": {
        "id": "MfMQg4OgLrq5"
      }
    },
    {
      "cell_type": "markdown",
      "source": [
        "Hypothetical AI Problem: Predicting patient readmission risk within 30 days of discharge\n",
        "\n",
        "Objectives:\n",
        "\n",
        "Identify high-risk patients for targeted interventions\n",
        "\n",
        "Reduce hospital readmission rates by 20% within one year\n",
        "\n",
        "Improve resource allocation for post-discharge care"
      ],
      "metadata": {
        "id": "wlGhAQbNMDn-"
      }
    },
    {
      "cell_type": "markdown",
      "source": [
        "Stakeholders:\n",
        "\n",
        "Hospital administrators (for resource planning)\n",
        "\n",
        "Clinical staff (for patient care decisions)\n",
        "\n",
        "KPI: Reduction in 30-day readmission rate compared to baseline"
      ],
      "metadata": {
        "id": "aG8skUJvMRac"
      }
    },
    {
      "cell_type": "markdown",
      "source": [
        "## Data Collection & Preprocessing"
      ],
      "metadata": {
        "id": "2TuWM3JRMx_P"
      }
    },
    {
      "cell_type": "markdown",
      "source": [
        "Data Sources:\n",
        "\n",
        "Electronic Health Records (EHRs) - patient history, medications, lab results\n",
        "\n",
        "Administrative data - previous admissions, discharge summaries\n",
        "\n",
        "Potential Bias: Underrepresentation of minority groups in historical data leading to poorer predictions for these populations\n",
        "\n",
        "Preprocessing Steps:\n",
        "\n",
        "Handling missing data - impute missing lab values with median values\n",
        "\n",
        "Normalization - scale numerical features like age, blood pressure\n",
        "\n",
        "Encoding - convert categorical variables like diagnosis codes to numerical representations"
      ],
      "metadata": {
        "id": "q4JByODPM9eJ"
      }
    },
    {
      "cell_type": "markdown",
      "source": [
        "##  Model Development"
      ],
      "metadata": {
        "id": "9ZjAvGnrM_aK"
      }
    },
    {
      "cell_type": "markdown",
      "source": [
        "Chosen Model: Gradient Boosting Machine (XGBoost)\n",
        "\n",
        "Justification:\n",
        "\n",
        "Handles mixed data types well\n",
        "\n",
        "Provides good predictive performance\n",
        "\n",
        "Offers feature importance insights\n",
        "\n",
        "More interpretable than deep learning for healthcare applications"
      ],
      "metadata": {
        "id": "EoOVldIWNG40"
      }
    },
    {
      "cell_type": "markdown",
      "source": [
        "Data Splitting:\n",
        "\n",
        "60% training\n",
        "\n",
        "20% validation (for hyperparameter tuning)\n",
        "\n",
        "20% test (final evaluation)\n",
        "\n",
        "Hyperparameters to Tune:\n",
        "\n",
        "Learning rate - controls contribution of each tree\n",
        "\n",
        "Max depth - prevents overcomplex trees"
      ],
      "metadata": {
        "id": "4mGBaq1RNPC0"
      }
    },
    {
      "cell_type": "markdown",
      "source": [
        "## Evaluation & Deployment"
      ],
      "metadata": {
        "id": "1aItQlG4NSLG"
      }
    },
    {
      "cell_type": "markdown",
      "source": [
        "Evaluation Metrics:\n",
        "\n",
        "AUC-ROC - important for imbalanced classification (few patients get readmitted)\n",
        "\n",
        "Recall - we want to minimize false negatives (missed high-risk patients)"
      ],
      "metadata": {
        "id": "E8AEoMpYNf3p"
      }
    },
    {
      "cell_type": "markdown",
      "source": [
        "Concept Drift: When patient demographics or care protocols change over time, making the model less accurate. Would monitor by tracking prediction distributions and periodically re-evaluating on new data.\n",
        "\n",
        "Technical Challenge: Integrating with hospital's legacy EHR systems while maintaining real-time prediction capabilities"
      ],
      "metadata": {
        "id": "FhbJ_acjNn3h"
      }
    },
    {
      "cell_type": "markdown",
      "source": [
        "## Case Study Application"
      ],
      "metadata": {
        "id": "xcuCFXiAN28z"
      }
    },
    {
      "cell_type": "markdown",
      "source": [
        "Problem Scope\n",
        "Problem: Predict which patients are at high risk of readmission within 30 days of discharge to enable targeted interventions.\n",
        "Objectives:\n",
        "\n",
        "Achieve ≥0.85 AUC in predicting readmissions\n",
        "\n",
        "Reduce readmissions by 15% in first year\n",
        "\n",
        "Provide interpretable risk factors to clinicians\n",
        "Stakeholders:\n",
        "\n",
        "Hospital clinicians\n",
        "\n",
        "Care coordinators\n",
        "\n",
        "Hospital administrators\n",
        "\n",
        "Patients\n"
      ],
      "metadata": {
        "id": "4ChEKiVzN7vn"
      }
    },
    {
      "cell_type": "markdown",
      "source": [
        "Data Strategy\n",
        "Data Sources\n",
        "EHRs (vitals, medications, lab results)\n",
        "\n",
        "Socioeconomic data (from patient surveys)\n",
        "\n",
        "Previous admission records\n",
        "## Ethical Concerns:\n",
        "Patient privacy - must comply with HIPAA regulations\n",
        "\n",
        "Potential for discrimination if model biases lead to unequal care\n",
        "## Preprocessing Pipeline\n",
        "Data cleaning (handle missing values, outliers)\n",
        "\n",
        "Feature engineering:\n",
        "\n",
        "Create time since last admission\n",
        "\n",
        "Calculate medication count\n",
        "\n",
        "Flag chronic conditions\n",
        "\n",
        "Normalization of numerical features\n",
        "\n",
        "One-hot encoding for categorical variables\n",
        "\n"
      ],
      "metadata": {
        "id": "nFluAiErPx36"
      }
    },
    {
      "cell_type": "markdown",
      "source": [
        "## Model Development"
      ],
      "metadata": {
        "id": "yVFvMNOZRrlc"
      }
    },
    {
      "cell_type": "markdown",
      "source": [
        "Chosen Model: XGBoost with SHAP explanations\n",
        "\n",
        "Justification:\n",
        "\n",
        "Handles mixed data types\n",
        "\n",
        "Provides feature importance\n",
        "\n",
        "Good performance on tabular data\n",
        "\n",
        "Better interpretability than neural networks"
      ],
      "metadata": {
        "id": "X24rYyeaRyNO"
      }
    },
    {
      "cell_type": "markdown",
      "source": [
        "Confusion Matrix (hypothetical)"
      ],
      "metadata": {
        "id": "z91D7lLOR4Qv"
      }
    },
    {
      "cell_type": "markdown",
      "source": [
        "            Predicted 0  Predicted 1\n",
        "Actual 0        850           50\n",
        "Actual 1         80          120"
      ],
      "metadata": {
        "id": "yAU1opN9SBn5"
      }
    },
    {
      "cell_type": "markdown",
      "source": [
        "Calculations:\n",
        "\n",
        "Precision = TP/(TP+FP) = 120/(120+50) = 0.706\n",
        "\n",
        "Recall = TP/(TP+FN) = 120/(120+80) = 0.60"
      ],
      "metadata": {
        "id": "mwOqDrB4SIo-"
      }
    },
    {
      "cell_type": "markdown",
      "source": [
        "## Deployment"
      ],
      "metadata": {
        "id": "hpT8_uAMSOuw"
      }
    },
    {
      "cell_type": "markdown",
      "source": [
        "Integration Steps"
      ],
      "metadata": {
        "id": "ki3urzDmSUr6"
      }
    },
    {
      "cell_type": "markdown",
      "source": [
        "Create API wrapper around model\n",
        "\n",
        "Integrate with hospital EHR system\n",
        "\n",
        "Set up real-time prediction when discharge is planned\n",
        "\n",
        "Create clinician dashboard showing risk scores and key factors"
      ],
      "metadata": {
        "id": "ZD9xo9DSSWhP"
      }
    },
    {
      "cell_type": "markdown",
      "source": [
        "## Regulatory Compliance"
      ],
      "metadata": {
        "id": "lY7TIfT2TS08"
      }
    },
    {
      "cell_type": "markdown",
      "source": [
        "Data anonymization\n",
        "\n",
        "Role-based access control\n",
        "\n",
        "Audit logging\n",
        "\n",
        "Regular security assessments\n",
        "\n",
        "Model explainability for clinician review"
      ],
      "metadata": {
        "id": "S6-nDI9RTaqb"
      }
    },
    {
      "cell_type": "markdown",
      "source": [
        "## Optimization"
      ],
      "metadata": {
        "id": "qT6nIITOT0N3"
      }
    },
    {
      "cell_type": "markdown",
      "source": [
        "Overfitting Solution: Implement early stopping during training - stop when validation performance stops improving for 50 consecutive iterations"
      ],
      "metadata": {
        "id": "CwA_fyLSUHLd"
      }
    },
    {
      "cell_type": "markdown",
      "source": [],
      "metadata": {
        "id": "GriG9EAkUX64"
      }
    },
    {
      "cell_type": "markdown",
      "source": [
        "## Critical Thinking"
      ],
      "metadata": {
        "id": "pUuW1WnmUYgl"
      }
    },
    {
      "cell_type": "markdown",
      "source": [
        "Impact of Biased Data:\n",
        "\n",
        "Could systematically underestimate risk for minority groups\n",
        "\n",
        "Might lead to inadequate follow-up care for these patients\n",
        "\n",
        "Could perpetuate existing healthcare disparities\n",
        "Mitigation Strategy:\n",
        "\n",
        "Audit model performance across demographic subgroups\n",
        "\n",
        "Apply reweighting techniques to balance representation\n",
        "\n",
        "Include fairness metrics in model evaluation"
      ],
      "metadata": {
        "id": "zmmQv2TLUpUx"
      }
    },
    {
      "cell_type": "markdown",
      "source": [
        "## Trade-offs"
      ],
      "metadata": {
        "id": "d6QXKnMWVdWC"
      }
    },
    {
      "cell_type": "markdown",
      "source": [
        "## Interpretability vs Accuracy"
      ],
      "metadata": {
        "id": "gcHWIrATVxtq"
      }
    },
    {
      "cell_type": "markdown",
      "source": [
        "In healthcare, interpretability is often more important than slight accuracy gains because:\n",
        "\n",
        "Clinicians need to understand model decisions to trust them\n",
        "\n",
        "Regulatory requirements may demand explainability\n",
        "\n",
        "Patient outcomes are at stake\n",
        "\n",
        "However, we can't sacrifice too much accuracy. A balanced approach is using interpretable models like XGBoost with SHAP explanations rather than black-box models."
      ],
      "metadata": {
        "id": "nCJJLmL5V3Os"
      }
    },
    {
      "cell_type": "markdown",
      "source": [
        "## Limited Computational Resources"
      ],
      "metadata": {
        "id": "D57HJmpfV93J"
      }
    },
    {
      "cell_type": "markdown",
      "source": [
        "Would favor:\n",
        "\n",
        "Simpler models like logistic regression\n",
        "\n",
        "Feature selection to reduce dimensionality\n",
        "\n",
        "Maybe cloud-based solutions rather than on-premise deployment\n",
        "\n",
        "Smaller ensemble models rather than large neural networks"
      ],
      "metadata": {
        "id": "adT48gCCWSNv"
      }
    },
    {
      "cell_type": "markdown",
      "source": [
        "## Reflection & Workflow Diagram"
      ],
      "metadata": {
        "id": "3AHO_twRWX7p"
      }
    },
    {
      "cell_type": "markdown",
      "source": [
        "Most Challenging Part: Ensuring ethical deployment while maintaining model performance. Healthcare applications have serious consequences, so we must balance predictive power with fairness, interpretability, and privacy\n",
        "Improvements with More Resources:\n",
        "\n",
        "Collect more diverse training data\n",
        "\n",
        "Implement more sophisticated bias detection\n",
        "\n",
        "Develop better clinician interfaces\n",
        "\n",
        "Run larger hyperparameter searches\n"
      ],
      "metadata": {
        "id": "a11Du5bwWk3k"
      }
    },
    {
      "cell_type": "markdown",
      "source": [
        "## Diagram and Code"
      ],
      "metadata": {
        "id": "20S3oh9OWvAF"
      }
    },
    {
      "cell_type": "code",
      "source": [
        "# Import necessary libraries\n",
        "import numpy as np\n",
        "import pandas as pd\n",
        "from sklearn.datasets import load_breast_cancer\n",
        "from sklearn.model_selection import train_test_split\n",
        "from sklearn.preprocessing import StandardScaler\n",
        "from sklearn.ensemble import GradientBoostingClassifier\n",
        "from sklearn.metrics import confusion_matrix, classification_report, roc_auc_score\n",
        "import matplotlib.pyplot as plt\n",
        "import seaborn as sns"
      ],
      "metadata": {
        "id": "gVJ8pNRVW2gJ"
      },
      "execution_count": 1,
      "outputs": []
    },
    {
      "cell_type": "code",
      "source": [
        "# Load dataset\n",
        "data = load_breast_cancer()\n",
        "X = pd.DataFrame(data.data, columns=data.feature_names)\n",
        "y = data.target"
      ],
      "metadata": {
        "id": "_QG3FrVJXdVk"
      },
      "execution_count": 2,
      "outputs": []
    },
    {
      "cell_type": "code",
      "source": [
        "import pandas as pd\n",
        "\n",
        "# Example URL to a CSV dataset (using UCI ML Breast Cancer dataset)\n",
        "url = \"https://archive.ics.uci.edu/ml/machine-learning-databases/breast-cancer-wisconsin/wdbc.data\"\n",
        "\n",
        "# Load with pandas\n",
        "column_names = ['id', 'diagnosis'] + [f'feature_{i}' for i in range(1,31)]\n",
        "df = pd.read_csv(url, header=None, names=column_names)\n",
        "\n",
        "print(df.head())\n",
        "print(f\"\\nDataset shape: {df.shape}\")"
      ],
      "metadata": {
        "colab": {
          "base_uri": "https://localhost:8080/"
        },
        "id": "zztqCdn2YVev",
        "outputId": "8a193a32-11a0-430e-a09f-452ebe1b2985"
      },
      "execution_count": 10,
      "outputs": [
        {
          "output_type": "stream",
          "name": "stdout",
          "text": [
            "         id diagnosis  feature_1  feature_2  feature_3  feature_4  feature_5  \\\n",
            "0    842302         M      17.99      10.38     122.80     1001.0    0.11840   \n",
            "1    842517         M      20.57      17.77     132.90     1326.0    0.08474   \n",
            "2  84300903         M      19.69      21.25     130.00     1203.0    0.10960   \n",
            "3  84348301         M      11.42      20.38      77.58      386.1    0.14250   \n",
            "4  84358402         M      20.29      14.34     135.10     1297.0    0.10030   \n",
            "\n",
            "   feature_6  feature_7  feature_8  ...  feature_21  feature_22  feature_23  \\\n",
            "0    0.27760     0.3001    0.14710  ...       25.38       17.33      184.60   \n",
            "1    0.07864     0.0869    0.07017  ...       24.99       23.41      158.80   \n",
            "2    0.15990     0.1974    0.12790  ...       23.57       25.53      152.50   \n",
            "3    0.28390     0.2414    0.10520  ...       14.91       26.50       98.87   \n",
            "4    0.13280     0.1980    0.10430  ...       22.54       16.67      152.20   \n",
            "\n",
            "   feature_24  feature_25  feature_26  feature_27  feature_28  feature_29  \\\n",
            "0      2019.0      0.1622      0.6656      0.7119      0.2654      0.4601   \n",
            "1      1956.0      0.1238      0.1866      0.2416      0.1860      0.2750   \n",
            "2      1709.0      0.1444      0.4245      0.4504      0.2430      0.3613   \n",
            "3       567.7      0.2098      0.8663      0.6869      0.2575      0.6638   \n",
            "4      1575.0      0.1374      0.2050      0.4000      0.1625      0.2364   \n",
            "\n",
            "   feature_30  \n",
            "0     0.11890  \n",
            "1     0.08902  \n",
            "2     0.08758  \n",
            "3     0.17300  \n",
            "4     0.07678  \n",
            "\n",
            "[5 rows x 32 columns]\n",
            "\n",
            "Dataset shape: (569, 32)\n"
          ]
        }
      ]
    },
    {
      "cell_type": "code",
      "source": [
        "# Split data\n",
        "X_train, X_test, y_train, y_test = train_test_split(X, y, test_size=0.2, random_state=42)"
      ],
      "metadata": {
        "id": "QK2LwQ-mXdTn"
      },
      "execution_count": 3,
      "outputs": []
    },
    {
      "cell_type": "code",
      "source": [
        "# Scale the data\n",
        "scaler = StandardScaler()\n",
        "X_train_scaled = scaler.fit_transform(X_train)\n",
        "X_test_scaled = scaler.transform(X_test)\n",
        "\n",
        "# Model training\n",
        "model = GradientBoostingClassifier(n_estimators=100, learning_rate=0.1, max_depth=3, random_state=42)\n",
        "model.fit(X_train_scaled, y_train)"
      ],
      "metadata": {
        "colab": {
          "base_uri": "https://localhost:8080/",
          "height": 80
        },
        "id": "GaK7RAkrXlKw",
        "outputId": "ac928063-e38f-414f-d925-01e09570f035"
      },
      "execution_count": 5,
      "outputs": [
        {
          "output_type": "execute_result",
          "data": {
            "text/plain": [
              "GradientBoostingClassifier(random_state=42)"
            ],
            "text/html": [
              "<style>#sk-container-id-1 {\n",
              "  /* Definition of color scheme common for light and dark mode */\n",
              "  --sklearn-color-text: #000;\n",
              "  --sklearn-color-text-muted: #666;\n",
              "  --sklearn-color-line: gray;\n",
              "  /* Definition of color scheme for unfitted estimators */\n",
              "  --sklearn-color-unfitted-level-0: #fff5e6;\n",
              "  --sklearn-color-unfitted-level-1: #f6e4d2;\n",
              "  --sklearn-color-unfitted-level-2: #ffe0b3;\n",
              "  --sklearn-color-unfitted-level-3: chocolate;\n",
              "  /* Definition of color scheme for fitted estimators */\n",
              "  --sklearn-color-fitted-level-0: #f0f8ff;\n",
              "  --sklearn-color-fitted-level-1: #d4ebff;\n",
              "  --sklearn-color-fitted-level-2: #b3dbfd;\n",
              "  --sklearn-color-fitted-level-3: cornflowerblue;\n",
              "\n",
              "  /* Specific color for light theme */\n",
              "  --sklearn-color-text-on-default-background: var(--sg-text-color, var(--theme-code-foreground, var(--jp-content-font-color1, black)));\n",
              "  --sklearn-color-background: var(--sg-background-color, var(--theme-background, var(--jp-layout-color0, white)));\n",
              "  --sklearn-color-border-box: var(--sg-text-color, var(--theme-code-foreground, var(--jp-content-font-color1, black)));\n",
              "  --sklearn-color-icon: #696969;\n",
              "\n",
              "  @media (prefers-color-scheme: dark) {\n",
              "    /* Redefinition of color scheme for dark theme */\n",
              "    --sklearn-color-text-on-default-background: var(--sg-text-color, var(--theme-code-foreground, var(--jp-content-font-color1, white)));\n",
              "    --sklearn-color-background: var(--sg-background-color, var(--theme-background, var(--jp-layout-color0, #111)));\n",
              "    --sklearn-color-border-box: var(--sg-text-color, var(--theme-code-foreground, var(--jp-content-font-color1, white)));\n",
              "    --sklearn-color-icon: #878787;\n",
              "  }\n",
              "}\n",
              "\n",
              "#sk-container-id-1 {\n",
              "  color: var(--sklearn-color-text);\n",
              "}\n",
              "\n",
              "#sk-container-id-1 pre {\n",
              "  padding: 0;\n",
              "}\n",
              "\n",
              "#sk-container-id-1 input.sk-hidden--visually {\n",
              "  border: 0;\n",
              "  clip: rect(1px 1px 1px 1px);\n",
              "  clip: rect(1px, 1px, 1px, 1px);\n",
              "  height: 1px;\n",
              "  margin: -1px;\n",
              "  overflow: hidden;\n",
              "  padding: 0;\n",
              "  position: absolute;\n",
              "  width: 1px;\n",
              "}\n",
              "\n",
              "#sk-container-id-1 div.sk-dashed-wrapped {\n",
              "  border: 1px dashed var(--sklearn-color-line);\n",
              "  margin: 0 0.4em 0.5em 0.4em;\n",
              "  box-sizing: border-box;\n",
              "  padding-bottom: 0.4em;\n",
              "  background-color: var(--sklearn-color-background);\n",
              "}\n",
              "\n",
              "#sk-container-id-1 div.sk-container {\n",
              "  /* jupyter's `normalize.less` sets `[hidden] { display: none; }`\n",
              "     but bootstrap.min.css set `[hidden] { display: none !important; }`\n",
              "     so we also need the `!important` here to be able to override the\n",
              "     default hidden behavior on the sphinx rendered scikit-learn.org.\n",
              "     See: https://github.com/scikit-learn/scikit-learn/issues/21755 */\n",
              "  display: inline-block !important;\n",
              "  position: relative;\n",
              "}\n",
              "\n",
              "#sk-container-id-1 div.sk-text-repr-fallback {\n",
              "  display: none;\n",
              "}\n",
              "\n",
              "div.sk-parallel-item,\n",
              "div.sk-serial,\n",
              "div.sk-item {\n",
              "  /* draw centered vertical line to link estimators */\n",
              "  background-image: linear-gradient(var(--sklearn-color-text-on-default-background), var(--sklearn-color-text-on-default-background));\n",
              "  background-size: 2px 100%;\n",
              "  background-repeat: no-repeat;\n",
              "  background-position: center center;\n",
              "}\n",
              "\n",
              "/* Parallel-specific style estimator block */\n",
              "\n",
              "#sk-container-id-1 div.sk-parallel-item::after {\n",
              "  content: \"\";\n",
              "  width: 100%;\n",
              "  border-bottom: 2px solid var(--sklearn-color-text-on-default-background);\n",
              "  flex-grow: 1;\n",
              "}\n",
              "\n",
              "#sk-container-id-1 div.sk-parallel {\n",
              "  display: flex;\n",
              "  align-items: stretch;\n",
              "  justify-content: center;\n",
              "  background-color: var(--sklearn-color-background);\n",
              "  position: relative;\n",
              "}\n",
              "\n",
              "#sk-container-id-1 div.sk-parallel-item {\n",
              "  display: flex;\n",
              "  flex-direction: column;\n",
              "}\n",
              "\n",
              "#sk-container-id-1 div.sk-parallel-item:first-child::after {\n",
              "  align-self: flex-end;\n",
              "  width: 50%;\n",
              "}\n",
              "\n",
              "#sk-container-id-1 div.sk-parallel-item:last-child::after {\n",
              "  align-self: flex-start;\n",
              "  width: 50%;\n",
              "}\n",
              "\n",
              "#sk-container-id-1 div.sk-parallel-item:only-child::after {\n",
              "  width: 0;\n",
              "}\n",
              "\n",
              "/* Serial-specific style estimator block */\n",
              "\n",
              "#sk-container-id-1 div.sk-serial {\n",
              "  display: flex;\n",
              "  flex-direction: column;\n",
              "  align-items: center;\n",
              "  background-color: var(--sklearn-color-background);\n",
              "  padding-right: 1em;\n",
              "  padding-left: 1em;\n",
              "}\n",
              "\n",
              "\n",
              "/* Toggleable style: style used for estimator/Pipeline/ColumnTransformer box that is\n",
              "clickable and can be expanded/collapsed.\n",
              "- Pipeline and ColumnTransformer use this feature and define the default style\n",
              "- Estimators will overwrite some part of the style using the `sk-estimator` class\n",
              "*/\n",
              "\n",
              "/* Pipeline and ColumnTransformer style (default) */\n",
              "\n",
              "#sk-container-id-1 div.sk-toggleable {\n",
              "  /* Default theme specific background. It is overwritten whether we have a\n",
              "  specific estimator or a Pipeline/ColumnTransformer */\n",
              "  background-color: var(--sklearn-color-background);\n",
              "}\n",
              "\n",
              "/* Toggleable label */\n",
              "#sk-container-id-1 label.sk-toggleable__label {\n",
              "  cursor: pointer;\n",
              "  display: flex;\n",
              "  width: 100%;\n",
              "  margin-bottom: 0;\n",
              "  padding: 0.5em;\n",
              "  box-sizing: border-box;\n",
              "  text-align: center;\n",
              "  align-items: start;\n",
              "  justify-content: space-between;\n",
              "  gap: 0.5em;\n",
              "}\n",
              "\n",
              "#sk-container-id-1 label.sk-toggleable__label .caption {\n",
              "  font-size: 0.6rem;\n",
              "  font-weight: lighter;\n",
              "  color: var(--sklearn-color-text-muted);\n",
              "}\n",
              "\n",
              "#sk-container-id-1 label.sk-toggleable__label-arrow:before {\n",
              "  /* Arrow on the left of the label */\n",
              "  content: \"▸\";\n",
              "  float: left;\n",
              "  margin-right: 0.25em;\n",
              "  color: var(--sklearn-color-icon);\n",
              "}\n",
              "\n",
              "#sk-container-id-1 label.sk-toggleable__label-arrow:hover:before {\n",
              "  color: var(--sklearn-color-text);\n",
              "}\n",
              "\n",
              "/* Toggleable content - dropdown */\n",
              "\n",
              "#sk-container-id-1 div.sk-toggleable__content {\n",
              "  max-height: 0;\n",
              "  max-width: 0;\n",
              "  overflow: hidden;\n",
              "  text-align: left;\n",
              "  /* unfitted */\n",
              "  background-color: var(--sklearn-color-unfitted-level-0);\n",
              "}\n",
              "\n",
              "#sk-container-id-1 div.sk-toggleable__content.fitted {\n",
              "  /* fitted */\n",
              "  background-color: var(--sklearn-color-fitted-level-0);\n",
              "}\n",
              "\n",
              "#sk-container-id-1 div.sk-toggleable__content pre {\n",
              "  margin: 0.2em;\n",
              "  border-radius: 0.25em;\n",
              "  color: var(--sklearn-color-text);\n",
              "  /* unfitted */\n",
              "  background-color: var(--sklearn-color-unfitted-level-0);\n",
              "}\n",
              "\n",
              "#sk-container-id-1 div.sk-toggleable__content.fitted pre {\n",
              "  /* unfitted */\n",
              "  background-color: var(--sklearn-color-fitted-level-0);\n",
              "}\n",
              "\n",
              "#sk-container-id-1 input.sk-toggleable__control:checked~div.sk-toggleable__content {\n",
              "  /* Expand drop-down */\n",
              "  max-height: 200px;\n",
              "  max-width: 100%;\n",
              "  overflow: auto;\n",
              "}\n",
              "\n",
              "#sk-container-id-1 input.sk-toggleable__control:checked~label.sk-toggleable__label-arrow:before {\n",
              "  content: \"▾\";\n",
              "}\n",
              "\n",
              "/* Pipeline/ColumnTransformer-specific style */\n",
              "\n",
              "#sk-container-id-1 div.sk-label input.sk-toggleable__control:checked~label.sk-toggleable__label {\n",
              "  color: var(--sklearn-color-text);\n",
              "  background-color: var(--sklearn-color-unfitted-level-2);\n",
              "}\n",
              "\n",
              "#sk-container-id-1 div.sk-label.fitted input.sk-toggleable__control:checked~label.sk-toggleable__label {\n",
              "  background-color: var(--sklearn-color-fitted-level-2);\n",
              "}\n",
              "\n",
              "/* Estimator-specific style */\n",
              "\n",
              "/* Colorize estimator box */\n",
              "#sk-container-id-1 div.sk-estimator input.sk-toggleable__control:checked~label.sk-toggleable__label {\n",
              "  /* unfitted */\n",
              "  background-color: var(--sklearn-color-unfitted-level-2);\n",
              "}\n",
              "\n",
              "#sk-container-id-1 div.sk-estimator.fitted input.sk-toggleable__control:checked~label.sk-toggleable__label {\n",
              "  /* fitted */\n",
              "  background-color: var(--sklearn-color-fitted-level-2);\n",
              "}\n",
              "\n",
              "#sk-container-id-1 div.sk-label label.sk-toggleable__label,\n",
              "#sk-container-id-1 div.sk-label label {\n",
              "  /* The background is the default theme color */\n",
              "  color: var(--sklearn-color-text-on-default-background);\n",
              "}\n",
              "\n",
              "/* On hover, darken the color of the background */\n",
              "#sk-container-id-1 div.sk-label:hover label.sk-toggleable__label {\n",
              "  color: var(--sklearn-color-text);\n",
              "  background-color: var(--sklearn-color-unfitted-level-2);\n",
              "}\n",
              "\n",
              "/* Label box, darken color on hover, fitted */\n",
              "#sk-container-id-1 div.sk-label.fitted:hover label.sk-toggleable__label.fitted {\n",
              "  color: var(--sklearn-color-text);\n",
              "  background-color: var(--sklearn-color-fitted-level-2);\n",
              "}\n",
              "\n",
              "/* Estimator label */\n",
              "\n",
              "#sk-container-id-1 div.sk-label label {\n",
              "  font-family: monospace;\n",
              "  font-weight: bold;\n",
              "  display: inline-block;\n",
              "  line-height: 1.2em;\n",
              "}\n",
              "\n",
              "#sk-container-id-1 div.sk-label-container {\n",
              "  text-align: center;\n",
              "}\n",
              "\n",
              "/* Estimator-specific */\n",
              "#sk-container-id-1 div.sk-estimator {\n",
              "  font-family: monospace;\n",
              "  border: 1px dotted var(--sklearn-color-border-box);\n",
              "  border-radius: 0.25em;\n",
              "  box-sizing: border-box;\n",
              "  margin-bottom: 0.5em;\n",
              "  /* unfitted */\n",
              "  background-color: var(--sklearn-color-unfitted-level-0);\n",
              "}\n",
              "\n",
              "#sk-container-id-1 div.sk-estimator.fitted {\n",
              "  /* fitted */\n",
              "  background-color: var(--sklearn-color-fitted-level-0);\n",
              "}\n",
              "\n",
              "/* on hover */\n",
              "#sk-container-id-1 div.sk-estimator:hover {\n",
              "  /* unfitted */\n",
              "  background-color: var(--sklearn-color-unfitted-level-2);\n",
              "}\n",
              "\n",
              "#sk-container-id-1 div.sk-estimator.fitted:hover {\n",
              "  /* fitted */\n",
              "  background-color: var(--sklearn-color-fitted-level-2);\n",
              "}\n",
              "\n",
              "/* Specification for estimator info (e.g. \"i\" and \"?\") */\n",
              "\n",
              "/* Common style for \"i\" and \"?\" */\n",
              "\n",
              ".sk-estimator-doc-link,\n",
              "a:link.sk-estimator-doc-link,\n",
              "a:visited.sk-estimator-doc-link {\n",
              "  float: right;\n",
              "  font-size: smaller;\n",
              "  line-height: 1em;\n",
              "  font-family: monospace;\n",
              "  background-color: var(--sklearn-color-background);\n",
              "  border-radius: 1em;\n",
              "  height: 1em;\n",
              "  width: 1em;\n",
              "  text-decoration: none !important;\n",
              "  margin-left: 0.5em;\n",
              "  text-align: center;\n",
              "  /* unfitted */\n",
              "  border: var(--sklearn-color-unfitted-level-1) 1pt solid;\n",
              "  color: var(--sklearn-color-unfitted-level-1);\n",
              "}\n",
              "\n",
              ".sk-estimator-doc-link.fitted,\n",
              "a:link.sk-estimator-doc-link.fitted,\n",
              "a:visited.sk-estimator-doc-link.fitted {\n",
              "  /* fitted */\n",
              "  border: var(--sklearn-color-fitted-level-1) 1pt solid;\n",
              "  color: var(--sklearn-color-fitted-level-1);\n",
              "}\n",
              "\n",
              "/* On hover */\n",
              "div.sk-estimator:hover .sk-estimator-doc-link:hover,\n",
              ".sk-estimator-doc-link:hover,\n",
              "div.sk-label-container:hover .sk-estimator-doc-link:hover,\n",
              ".sk-estimator-doc-link:hover {\n",
              "  /* unfitted */\n",
              "  background-color: var(--sklearn-color-unfitted-level-3);\n",
              "  color: var(--sklearn-color-background);\n",
              "  text-decoration: none;\n",
              "}\n",
              "\n",
              "div.sk-estimator.fitted:hover .sk-estimator-doc-link.fitted:hover,\n",
              ".sk-estimator-doc-link.fitted:hover,\n",
              "div.sk-label-container:hover .sk-estimator-doc-link.fitted:hover,\n",
              ".sk-estimator-doc-link.fitted:hover {\n",
              "  /* fitted */\n",
              "  background-color: var(--sklearn-color-fitted-level-3);\n",
              "  color: var(--sklearn-color-background);\n",
              "  text-decoration: none;\n",
              "}\n",
              "\n",
              "/* Span, style for the box shown on hovering the info icon */\n",
              ".sk-estimator-doc-link span {\n",
              "  display: none;\n",
              "  z-index: 9999;\n",
              "  position: relative;\n",
              "  font-weight: normal;\n",
              "  right: .2ex;\n",
              "  padding: .5ex;\n",
              "  margin: .5ex;\n",
              "  width: min-content;\n",
              "  min-width: 20ex;\n",
              "  max-width: 50ex;\n",
              "  color: var(--sklearn-color-text);\n",
              "  box-shadow: 2pt 2pt 4pt #999;\n",
              "  /* unfitted */\n",
              "  background: var(--sklearn-color-unfitted-level-0);\n",
              "  border: .5pt solid var(--sklearn-color-unfitted-level-3);\n",
              "}\n",
              "\n",
              ".sk-estimator-doc-link.fitted span {\n",
              "  /* fitted */\n",
              "  background: var(--sklearn-color-fitted-level-0);\n",
              "  border: var(--sklearn-color-fitted-level-3);\n",
              "}\n",
              "\n",
              ".sk-estimator-doc-link:hover span {\n",
              "  display: block;\n",
              "}\n",
              "\n",
              "/* \"?\"-specific style due to the `<a>` HTML tag */\n",
              "\n",
              "#sk-container-id-1 a.estimator_doc_link {\n",
              "  float: right;\n",
              "  font-size: 1rem;\n",
              "  line-height: 1em;\n",
              "  font-family: monospace;\n",
              "  background-color: var(--sklearn-color-background);\n",
              "  border-radius: 1rem;\n",
              "  height: 1rem;\n",
              "  width: 1rem;\n",
              "  text-decoration: none;\n",
              "  /* unfitted */\n",
              "  color: var(--sklearn-color-unfitted-level-1);\n",
              "  border: var(--sklearn-color-unfitted-level-1) 1pt solid;\n",
              "}\n",
              "\n",
              "#sk-container-id-1 a.estimator_doc_link.fitted {\n",
              "  /* fitted */\n",
              "  border: var(--sklearn-color-fitted-level-1) 1pt solid;\n",
              "  color: var(--sklearn-color-fitted-level-1);\n",
              "}\n",
              "\n",
              "/* On hover */\n",
              "#sk-container-id-1 a.estimator_doc_link:hover {\n",
              "  /* unfitted */\n",
              "  background-color: var(--sklearn-color-unfitted-level-3);\n",
              "  color: var(--sklearn-color-background);\n",
              "  text-decoration: none;\n",
              "}\n",
              "\n",
              "#sk-container-id-1 a.estimator_doc_link.fitted:hover {\n",
              "  /* fitted */\n",
              "  background-color: var(--sklearn-color-fitted-level-3);\n",
              "}\n",
              "</style><div id=\"sk-container-id-1\" class=\"sk-top-container\"><div class=\"sk-text-repr-fallback\"><pre>GradientBoostingClassifier(random_state=42)</pre><b>In a Jupyter environment, please rerun this cell to show the HTML representation or trust the notebook. <br />On GitHub, the HTML representation is unable to render, please try loading this page with nbviewer.org.</b></div><div class=\"sk-container\" hidden><div class=\"sk-item\"><div class=\"sk-estimator fitted sk-toggleable\"><input class=\"sk-toggleable__control sk-hidden--visually\" id=\"sk-estimator-id-1\" type=\"checkbox\" checked><label for=\"sk-estimator-id-1\" class=\"sk-toggleable__label fitted sk-toggleable__label-arrow\"><div><div>GradientBoostingClassifier</div></div><div><a class=\"sk-estimator-doc-link fitted\" rel=\"noreferrer\" target=\"_blank\" href=\"https://scikit-learn.org/1.6/modules/generated/sklearn.ensemble.GradientBoostingClassifier.html\">?<span>Documentation for GradientBoostingClassifier</span></a><span class=\"sk-estimator-doc-link fitted\">i<span>Fitted</span></span></div></label><div class=\"sk-toggleable__content fitted\"><pre>GradientBoostingClassifier(random_state=42)</pre></div> </div></div></div></div>"
            ]
          },
          "metadata": {},
          "execution_count": 5
        }
      ]
    },
    {
      "cell_type": "code",
      "source": [
        "# Evaluation\n",
        "y_pred = model.predict(X_test_scaled)\n",
        "y_proba = model.predict_proba(X_test_scaled)[:, 1]\n",
        "print(\"Classification Report:\")\n",
        "print(classification_report(y_test, y_pred))\n",
        "\n",
        "print(\"\\nAUC-ROC:\", roc_auc_score(y_test, y_proba))"
      ],
      "metadata": {
        "colab": {
          "base_uri": "https://localhost:8080/"
        },
        "id": "HT2waNU0XlF6",
        "outputId": "bd089434-78bb-4556-ee72-948e69debcbf"
      },
      "execution_count": 6,
      "outputs": [
        {
          "output_type": "stream",
          "name": "stdout",
          "text": [
            "Classification Report:\n",
            "              precision    recall  f1-score   support\n",
            "\n",
            "           0       0.95      0.93      0.94        43\n",
            "           1       0.96      0.97      0.97        71\n",
            "\n",
            "    accuracy                           0.96       114\n",
            "   macro avg       0.96      0.95      0.95       114\n",
            "weighted avg       0.96      0.96      0.96       114\n",
            "\n",
            "\n",
            "AUC-ROC: 0.9950867998689813\n"
          ]
        }
      ]
    },
    {
      "cell_type": "code",
      "source": [
        "# Confusion Matrix\n",
        "cm = confusion_matrix(y_test, y_pred)\n",
        "plt.figure(figsize=(6,6))\n",
        "sns.heatmap(cm, annot=True, fmt='d', cmap='Blues',\n",
        "            xticklabels=['Benign', 'Malignant'],\n",
        "            yticklabels=['Benign', 'Malignant'])\n",
        "plt.xlabel('Predicted')\n",
        "plt.ylabel('Actual')\n",
        "plt.title('Confusion Matrix')\n",
        "plt.show()"
      ],
      "metadata": {
        "colab": {
          "base_uri": "https://localhost:8080/",
          "height": 564
        },
        "id": "SHGHQ5fQXlAo",
        "outputId": "2424531f-a5f1-411e-b663-d85d8d3a9a24"
      },
      "execution_count": 7,
      "outputs": [
        {
          "output_type": "display_data",
          "data": {
            "text/plain": [
              "<Figure size 600x600 with 2 Axes>"
            ],
            "image/png": "[encoded data removed]"
          },
          "metadata": {}
        }
      ]
    },
    {
      "cell_type": "code",
      "source": [
        "# Feature Importance\n",
        "feature_imp = pd.Series(model.feature_importances_, index=data.feature_names).sort_values(ascending=False)\n",
        "plt.figure(figsize=(10,6))\n",
        "sns.barplot(x=feature_imp[:10], y=feature_imp.index[:10])\n",
        "plt.title('Top 10 Important Features')\n",
        "plt.show()"
      ],
      "metadata": {
        "colab": {
          "base_uri": "https://localhost:8080/",
          "height": 584
        },
        "id": "16bKYHUGXk9i",
        "outputId": "7c56483d-e6fb-4a66-fc90-5c2e4a64a734"
      },
      "execution_count": 8,
      "outputs": [
        {
          "output_type": "display_data",
          "data": {
            "text/plain": [
              "<Figure size 1000x600 with 1 Axes>"
            ],
            "image/png": "[encoded data removed]"
          },
          "metadata": {}
        }
      ]
    }
  ]
}